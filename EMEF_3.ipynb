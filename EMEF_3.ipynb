{
 "cells": [
  {
   "cell_type": "code",
   "execution_count": 1,
   "metadata": {},
   "outputs": [
    {
     "name": "stderr",
     "output_type": "stream",
     "text": [
      "C:\\Users\\Lau\\AppData\\Local\\Continuum\\anaconda3\\lib\\site-packages\\sklearn\\cross_validation.py:41: DeprecationWarning: This module was deprecated in version 0.18 in favor of the model_selection module into which all the refactored classes and functions are moved. Also note that the interface of the new CV iterators are different from that of this module. This module will be removed in 0.20.\n",
      "  \"This module will be removed in 0.20.\", DeprecationWarning)\n"
     ]
    }
   ],
   "source": [
    "import pandas as pd\n",
    "import numpy as np\n",
    "from matplotlib import pyplot as plt\n",
    "from sklearn.cross_validation import train_test_split\n",
    "from sklearn.ensemble import RandomForestClassifier\n",
    "from sklearn.ensemble import GradientBoostingClassifier\n",
    "%matplotlib notebook"
   ]
  },
  {
   "cell_type": "code",
   "execution_count": 2,
   "metadata": {},
   "outputs": [
    {
     "data": {
      "text/html": [
       "<div>\n",
       "<style scoped>\n",
       "    .dataframe tbody tr th:only-of-type {\n",
       "        vertical-align: middle;\n",
       "    }\n",
       "\n",
       "    .dataframe tbody tr th {\n",
       "        vertical-align: top;\n",
       "    }\n",
       "\n",
       "    .dataframe thead th {\n",
       "        text-align: right;\n",
       "    }\n",
       "</style>\n",
       "<table border=\"1\" class=\"dataframe\">\n",
       "  <thead>\n",
       "    <tr style=\"text-align: right;\">\n",
       "      <th></th>\n",
       "      <th>IDENT</th>\n",
       "      <th>FECHAINI</th>\n",
       "      <th>HORAINI</th>\n",
       "      <th>HORAINI_H</th>\n",
       "      <th>HORAINI_M</th>\n",
       "      <th>HORAINI_S</th>\n",
       "      <th>FECHAFIN</th>\n",
       "      <th>HORAFIN</th>\n",
       "      <th>HORAFIN_H</th>\n",
       "      <th>HORAFIN_M</th>\n",
       "      <th>...</th>\n",
       "      <th>ESTRAT_COD</th>\n",
       "      <th>ESTRAT</th>\n",
       "      <th>SEXE_COD</th>\n",
       "      <th>SEXE</th>\n",
       "      <th>ANYNAIX</th>\n",
       "      <th>EDAT</th>\n",
       "      <th>GR_EDAT_COD</th>\n",
       "      <th>GR_EDAT</th>\n",
       "      <th>METODE_COD</th>\n",
       "      <th>METODE</th>\n",
       "    </tr>\n",
       "  </thead>\n",
       "  <tbody>\n",
       "    <tr>\n",
       "      <th>0</th>\n",
       "      <td>10.0</td>\n",
       "      <td>15/11/2018</td>\n",
       "      <td>18:44:43</td>\n",
       "      <td>18</td>\n",
       "      <td>44</td>\n",
       "      <td>43</td>\n",
       "      <td>26/11/2018</td>\n",
       "      <td>13:44:21</td>\n",
       "      <td>13</td>\n",
       "      <td>44</td>\n",
       "      <td>...</td>\n",
       "      <td>1</td>\n",
       "      <td>Barcelona Districte 1</td>\n",
       "      <td>1</td>\n",
       "      <td>Home</td>\n",
       "      <td>1993</td>\n",
       "      <td>24</td>\n",
       "      <td>1</td>\n",
       "      <td>16-29</td>\n",
       "      <td>2</td>\n",
       "      <td>CAPI</td>\n",
       "    </tr>\n",
       "    <tr>\n",
       "      <th>1</th>\n",
       "      <td>11.0</td>\n",
       "      <td>13/12/2018</td>\n",
       "      <td>16:59:13</td>\n",
       "      <td>16</td>\n",
       "      <td>59</td>\n",
       "      <td>13</td>\n",
       "      <td>13/12/2018</td>\n",
       "      <td>17:15:09</td>\n",
       "      <td>17</td>\n",
       "      <td>15</td>\n",
       "      <td>...</td>\n",
       "      <td>1</td>\n",
       "      <td>Barcelona Districte 1</td>\n",
       "      <td>1</td>\n",
       "      <td>Home</td>\n",
       "      <td>1991</td>\n",
       "      <td>26</td>\n",
       "      <td>1</td>\n",
       "      <td>16-29</td>\n",
       "      <td>2</td>\n",
       "      <td>CAPI</td>\n",
       "    </tr>\n",
       "    <tr>\n",
       "      <th>2</th>\n",
       "      <td>12.0</td>\n",
       "      <td>11/12/2018</td>\n",
       "      <td>13:28:01</td>\n",
       "      <td>13</td>\n",
       "      <td>28</td>\n",
       "      <td>1</td>\n",
       "      <td>12/12/2018</td>\n",
       "      <td>13:45:15</td>\n",
       "      <td>13</td>\n",
       "      <td>45</td>\n",
       "      <td>...</td>\n",
       "      <td>1</td>\n",
       "      <td>Barcelona Districte 1</td>\n",
       "      <td>1</td>\n",
       "      <td>Home</td>\n",
       "      <td>2000</td>\n",
       "      <td>18</td>\n",
       "      <td>1</td>\n",
       "      <td>16-29</td>\n",
       "      <td>2</td>\n",
       "      <td>CAPI</td>\n",
       "    </tr>\n",
       "    <tr>\n",
       "      <th>3</th>\n",
       "      <td>31.0</td>\n",
       "      <td>06/11/2018</td>\n",
       "      <td>16:21:21</td>\n",
       "      <td>16</td>\n",
       "      <td>21</td>\n",
       "      <td>21</td>\n",
       "      <td>06/11/2018</td>\n",
       "      <td>16:40:02</td>\n",
       "      <td>16</td>\n",
       "      <td>40</td>\n",
       "      <td>...</td>\n",
       "      <td>1</td>\n",
       "      <td>Barcelona Districte 1</td>\n",
       "      <td>1</td>\n",
       "      <td>Home</td>\n",
       "      <td>1991</td>\n",
       "      <td>26</td>\n",
       "      <td>1</td>\n",
       "      <td>16-29</td>\n",
       "      <td>1</td>\n",
       "      <td>CATI</td>\n",
       "    </tr>\n",
       "    <tr>\n",
       "      <th>4</th>\n",
       "      <td>51.0</td>\n",
       "      <td>05/12/2018</td>\n",
       "      <td>12:10:14</td>\n",
       "      <td>12</td>\n",
       "      <td>10</td>\n",
       "      <td>14</td>\n",
       "      <td>05/12/2018</td>\n",
       "      <td>17:58:02</td>\n",
       "      <td>17</td>\n",
       "      <td>58</td>\n",
       "      <td>...</td>\n",
       "      <td>1</td>\n",
       "      <td>Barcelona Districte 1</td>\n",
       "      <td>1</td>\n",
       "      <td>Home</td>\n",
       "      <td>1991</td>\n",
       "      <td>27</td>\n",
       "      <td>1</td>\n",
       "      <td>16-29</td>\n",
       "      <td>2</td>\n",
       "      <td>CAPI</td>\n",
       "    </tr>\n",
       "  </tbody>\n",
       "</table>\n",
       "<p>5 rows × 25 columns</p>\n",
       "</div>"
      ],
      "text/plain": [
       "   IDENT    FECHAINI   HORAINI  HORAINI_H  HORAINI_M  HORAINI_S    FECHAFIN  \\\n",
       "0   10.0  15/11/2018  18:44:43         18         44         43  26/11/2018   \n",
       "1   11.0  13/12/2018  16:59:13         16         59         13  13/12/2018   \n",
       "2   12.0  11/12/2018  13:28:01         13         28          1  12/12/2018   \n",
       "3   31.0  06/11/2018  16:21:21         16         21         21  06/11/2018   \n",
       "4   51.0  05/12/2018  12:10:14         12         10         14  05/12/2018   \n",
       "\n",
       "    HORAFIN  HORAFIN_H  HORAFIN_M   ...    ESTRAT_COD                 ESTRAT  \\\n",
       "0  13:44:21         13         44   ...             1  Barcelona Districte 1   \n",
       "1  17:15:09         17         15   ...             1  Barcelona Districte 1   \n",
       "2  13:45:15         13         45   ...             1  Barcelona Districte 1   \n",
       "3  16:40:02         16         40   ...             1  Barcelona Districte 1   \n",
       "4  17:58:02         17         58   ...             1  Barcelona Districte 1   \n",
       "\n",
       "  SEXE_COD  SEXE ANYNAIX  EDAT GR_EDAT_COD  GR_EDAT METODE_COD  METODE  \n",
       "0        1  Home    1993    24           1    16-29          2    CAPI  \n",
       "1        1  Home    1991    26           1    16-29          2    CAPI  \n",
       "2        1  Home    2000    18           1    16-29          2    CAPI  \n",
       "3        1  Home    1991    26           1    16-29          1    CATI  \n",
       "4        1  Home    1991    27           1    16-29          2    CAPI  \n",
       "\n",
       "[5 rows x 25 columns]"
      ]
     },
     "execution_count": 2,
     "metadata": {},
     "output_type": "execute_result"
    }
   ],
   "source": [
    "EMEF = pd.read_csv('Dades_EMEF.csv', sep=';', header=0, encoding='latin-1')\n",
    "EMEF.head()"
   ]
  },
  {
   "cell_type": "code",
   "execution_count": 3,
   "metadata": {},
   "outputs": [
    {
     "data": {
      "text/plain": [
       "RangeIndex(start=0, stop=10162, step=1)"
      ]
     },
     "execution_count": 3,
     "metadata": {},
     "output_type": "execute_result"
    }
   ],
   "source": [
    "EMEF.index"
   ]
  },
  {
   "cell_type": "code",
   "execution_count": 4,
   "metadata": {},
   "outputs": [
    {
     "data": {
      "text/html": [
       "<div>\n",
       "<style scoped>\n",
       "    .dataframe tbody tr th:only-of-type {\n",
       "        vertical-align: middle;\n",
       "    }\n",
       "\n",
       "    .dataframe tbody tr th {\n",
       "        vertical-align: top;\n",
       "    }\n",
       "\n",
       "    .dataframe thead th {\n",
       "        text-align: right;\n",
       "    }\n",
       "</style>\n",
       "<table border=\"1\" class=\"dataframe\">\n",
       "  <thead>\n",
       "    <tr style=\"text-align: right;\">\n",
       "      <th></th>\n",
       "      <th>IDENT</th>\n",
       "      <th>HORAINI_H</th>\n",
       "      <th>HORAINI_M</th>\n",
       "      <th>HORAINI_S</th>\n",
       "      <th>HORAFIN_H</th>\n",
       "      <th>HORAFIN_M</th>\n",
       "      <th>HORAFIN_S</th>\n",
       "      <th>N_DIA_S_COD</th>\n",
       "      <th>CMUNI_COD</th>\n",
       "      <th>ESTRAT_COD</th>\n",
       "      <th>SEXE_COD</th>\n",
       "      <th>ANYNAIX</th>\n",
       "      <th>EDAT</th>\n",
       "      <th>GR_EDAT_COD</th>\n",
       "      <th>METODE_COD</th>\n",
       "    </tr>\n",
       "  </thead>\n",
       "  <tbody>\n",
       "    <tr>\n",
       "      <th>count</th>\n",
       "      <td>10162.000000</td>\n",
       "      <td>10162.000000</td>\n",
       "      <td>10162.000000</td>\n",
       "      <td>10162.000000</td>\n",
       "      <td>10162.000000</td>\n",
       "      <td>10162.000000</td>\n",
       "      <td>10162.000000</td>\n",
       "      <td>10162.000000</td>\n",
       "      <td>10162.000000</td>\n",
       "      <td>10162.000000</td>\n",
       "      <td>10162.000000</td>\n",
       "      <td>10162.000000</td>\n",
       "      <td>10162.000000</td>\n",
       "      <td>10162.000000</td>\n",
       "      <td>10162.000000</td>\n",
       "    </tr>\n",
       "    <tr>\n",
       "      <th>mean</th>\n",
       "      <td>55.672806</td>\n",
       "      <td>15.897068</td>\n",
       "      <td>31.370006</td>\n",
       "      <td>29.430427</td>\n",
       "      <td>15.884570</td>\n",
       "      <td>29.656564</td>\n",
       "      <td>29.258906</td>\n",
       "      <td>3.452076</td>\n",
       "      <td>8545.796694</td>\n",
       "      <td>35.466542</td>\n",
       "      <td>1.515154</td>\n",
       "      <td>1970.051860</td>\n",
       "      <td>47.818736</td>\n",
       "      <td>2.598209</td>\n",
       "      <td>1.436922</td>\n",
       "    </tr>\n",
       "    <tr>\n",
       "      <th>std</th>\n",
       "      <td>61.844734</td>\n",
       "      <td>2.724468</td>\n",
       "      <td>17.147274</td>\n",
       "      <td>17.194881</td>\n",
       "      <td>3.182436</td>\n",
       "      <td>17.343759</td>\n",
       "      <td>17.345519</td>\n",
       "      <td>1.571357</td>\n",
       "      <td>3548.672258</td>\n",
       "      <td>22.273097</td>\n",
       "      <td>0.499795</td>\n",
       "      <td>17.108624</td>\n",
       "      <td>17.102665</td>\n",
       "      <td>1.009379</td>\n",
       "      <td>1.342750</td>\n",
       "    </tr>\n",
       "    <tr>\n",
       "      <th>min</th>\n",
       "      <td>1.001000</td>\n",
       "      <td>0.000000</td>\n",
       "      <td>0.000000</td>\n",
       "      <td>0.000000</td>\n",
       "      <td>0.000000</td>\n",
       "      <td>0.000000</td>\n",
       "      <td>0.000000</td>\n",
       "      <td>1.000000</td>\n",
       "      <td>8001.000000</td>\n",
       "      <td>1.000000</td>\n",
       "      <td>1.000000</td>\n",
       "      <td>1924.000000</td>\n",
       "      <td>16.000000</td>\n",
       "      <td>1.000000</td>\n",
       "      <td>1.000000</td>\n",
       "    </tr>\n",
       "    <tr>\n",
       "      <th>25%</th>\n",
       "      <td>26.243250</td>\n",
       "      <td>14.000000</td>\n",
       "      <td>17.000000</td>\n",
       "      <td>15.000000</td>\n",
       "      <td>14.000000</td>\n",
       "      <td>15.000000</td>\n",
       "      <td>14.000000</td>\n",
       "      <td>2.000000</td>\n",
       "      <td>8019.000000</td>\n",
       "      <td>12.000000</td>\n",
       "      <td>1.000000</td>\n",
       "      <td>1956.000000</td>\n",
       "      <td>36.000000</td>\n",
       "      <td>2.000000</td>\n",
       "      <td>1.000000</td>\n",
       "    </tr>\n",
       "    <tr>\n",
       "      <th>50%</th>\n",
       "      <td>51.477000</td>\n",
       "      <td>16.000000</td>\n",
       "      <td>32.000000</td>\n",
       "      <td>29.000000</td>\n",
       "      <td>16.000000</td>\n",
       "      <td>30.000000</td>\n",
       "      <td>29.000000</td>\n",
       "      <td>3.000000</td>\n",
       "      <td>8114.000000</td>\n",
       "      <td>37.000000</td>\n",
       "      <td>2.000000</td>\n",
       "      <td>1971.000000</td>\n",
       "      <td>47.000000</td>\n",
       "      <td>3.000000</td>\n",
       "      <td>1.000000</td>\n",
       "    </tr>\n",
       "    <tr>\n",
       "      <th>75%</th>\n",
       "      <td>76.738000</td>\n",
       "      <td>18.000000</td>\n",
       "      <td>46.000000</td>\n",
       "      <td>44.000000</td>\n",
       "      <td>19.000000</td>\n",
       "      <td>45.000000</td>\n",
       "      <td>44.000000</td>\n",
       "      <td>5.000000</td>\n",
       "      <td>8218.000000</td>\n",
       "      <td>56.000000</td>\n",
       "      <td>2.000000</td>\n",
       "      <td>1982.000000</td>\n",
       "      <td>62.000000</td>\n",
       "      <td>3.000000</td>\n",
       "      <td>1.000000</td>\n",
       "    </tr>\n",
       "    <tr>\n",
       "      <th>max</th>\n",
       "      <td>990.000000</td>\n",
       "      <td>23.000000</td>\n",
       "      <td>59.000000</td>\n",
       "      <td>59.000000</td>\n",
       "      <td>23.000000</td>\n",
       "      <td>59.000000</td>\n",
       "      <td>59.000000</td>\n",
       "      <td>7.000000</td>\n",
       "      <td>43163.000000</td>\n",
       "      <td>71.000000</td>\n",
       "      <td>2.000000</td>\n",
       "      <td>2002.000000</td>\n",
       "      <td>94.000000</td>\n",
       "      <td>4.000000</td>\n",
       "      <td>6.000000</td>\n",
       "    </tr>\n",
       "  </tbody>\n",
       "</table>\n",
       "</div>"
      ],
      "text/plain": [
       "              IDENT     HORAINI_H     HORAINI_M     HORAINI_S     HORAFIN_H  \\\n",
       "count  10162.000000  10162.000000  10162.000000  10162.000000  10162.000000   \n",
       "mean      55.672806     15.897068     31.370006     29.430427     15.884570   \n",
       "std       61.844734      2.724468     17.147274     17.194881      3.182436   \n",
       "min        1.001000      0.000000      0.000000      0.000000      0.000000   \n",
       "25%       26.243250     14.000000     17.000000     15.000000     14.000000   \n",
       "50%       51.477000     16.000000     32.000000     29.000000     16.000000   \n",
       "75%       76.738000     18.000000     46.000000     44.000000     19.000000   \n",
       "max      990.000000     23.000000     59.000000     59.000000     23.000000   \n",
       "\n",
       "          HORAFIN_M     HORAFIN_S   N_DIA_S_COD     CMUNI_COD    ESTRAT_COD  \\\n",
       "count  10162.000000  10162.000000  10162.000000  10162.000000  10162.000000   \n",
       "mean      29.656564     29.258906      3.452076   8545.796694     35.466542   \n",
       "std       17.343759     17.345519      1.571357   3548.672258     22.273097   \n",
       "min        0.000000      0.000000      1.000000   8001.000000      1.000000   \n",
       "25%       15.000000     14.000000      2.000000   8019.000000     12.000000   \n",
       "50%       30.000000     29.000000      3.000000   8114.000000     37.000000   \n",
       "75%       45.000000     44.000000      5.000000   8218.000000     56.000000   \n",
       "max       59.000000     59.000000      7.000000  43163.000000     71.000000   \n",
       "\n",
       "           SEXE_COD       ANYNAIX          EDAT   GR_EDAT_COD    METODE_COD  \n",
       "count  10162.000000  10162.000000  10162.000000  10162.000000  10162.000000  \n",
       "mean       1.515154   1970.051860     47.818736      2.598209      1.436922  \n",
       "std        0.499795     17.108624     17.102665      1.009379      1.342750  \n",
       "min        1.000000   1924.000000     16.000000      1.000000      1.000000  \n",
       "25%        1.000000   1956.000000     36.000000      2.000000      1.000000  \n",
       "50%        2.000000   1971.000000     47.000000      3.000000      1.000000  \n",
       "75%        2.000000   1982.000000     62.000000      3.000000      1.000000  \n",
       "max        2.000000   2002.000000     94.000000      4.000000      6.000000  "
      ]
     },
     "execution_count": 4,
     "metadata": {},
     "output_type": "execute_result"
    }
   ],
   "source": [
    "EMEF.describe()"
   ]
  },
  {
   "cell_type": "code",
   "execution_count": 5,
   "metadata": {},
   "outputs": [
    {
     "data": {
      "text/plain": [
       "IDENT          float64\n",
       "FECHAINI        object\n",
       "HORAINI         object\n",
       "HORAINI_H        int64\n",
       "HORAINI_M        int64\n",
       "HORAINI_S        int64\n",
       "FECHAFIN        object\n",
       "HORAFIN         object\n",
       "HORAFIN_H        int64\n",
       "HORAFIN_M        int64\n",
       "HORAFIN_S        int64\n",
       "N_DIA_S_COD      int64\n",
       "N_DIA_S         object\n",
       "CMUNI_COD        int64\n",
       "CMUNI           object\n",
       "ESTRAT_COD       int64\n",
       "ESTRAT          object\n",
       "SEXE_COD         int64\n",
       "SEXE            object\n",
       "ANYNAIX          int64\n",
       "EDAT             int64\n",
       "GR_EDAT_COD      int64\n",
       "GR_EDAT         object\n",
       "METODE_COD       int64\n",
       "METODE          object\n",
       "dtype: object"
      ]
     },
     "execution_count": 5,
     "metadata": {},
     "output_type": "execute_result"
    }
   ],
   "source": [
    "EMEF.dtypes"
   ]
  },
  {
   "cell_type": "code",
   "execution_count": 6,
   "metadata": {},
   "outputs": [
    {
     "data": {
      "text/plain": [
       "Index(['IDENT', 'FECHAINI', 'HORAINI', 'HORAINI_H', 'HORAINI_M', 'HORAINI_S',\n",
       "       'FECHAFIN', 'HORAFIN', 'HORAFIN_H', 'HORAFIN_M', 'HORAFIN_S',\n",
       "       'N_DIA_S_COD', 'N_DIA_S', 'CMUNI_COD', 'CMUNI', 'ESTRAT_COD', 'ESTRAT',\n",
       "       'SEXE_COD', 'SEXE', 'ANYNAIX', 'EDAT', 'GR_EDAT_COD', 'GR_EDAT',\n",
       "       'METODE_COD', 'METODE'],\n",
       "      dtype='object')"
      ]
     },
     "execution_count": 6,
     "metadata": {},
     "output_type": "execute_result"
    }
   ],
   "source": [
    "EMEF.columns"
   ]
  },
  {
   "cell_type": "code",
   "execution_count": 7,
   "metadata": {},
   "outputs": [
    {
     "data": {
      "text/plain": [
       "(10162, 25)"
      ]
     },
     "execution_count": 7,
     "metadata": {},
     "output_type": "execute_result"
    }
   ],
   "source": [
    "EMEF.shape"
   ]
  },
  {
   "cell_type": "code",
   "execution_count": 8,
   "metadata": {},
   "outputs": [
    {
     "data": {
      "text/plain": [
       "IDENT          0\n",
       "FECHAINI       0\n",
       "HORAINI        0\n",
       "HORAINI_H      0\n",
       "HORAINI_M      0\n",
       "HORAINI_S      0\n",
       "FECHAFIN       0\n",
       "HORAFIN        0\n",
       "HORAFIN_H      0\n",
       "HORAFIN_M      0\n",
       "HORAFIN_S      0\n",
       "N_DIA_S_COD    0\n",
       "N_DIA_S        0\n",
       "CMUNI_COD      0\n",
       "CMUNI          0\n",
       "ESTRAT_COD     0\n",
       "ESTRAT         0\n",
       "SEXE_COD       0\n",
       "SEXE           0\n",
       "ANYNAIX        0\n",
       "EDAT           0\n",
       "GR_EDAT_COD    0\n",
       "GR_EDAT        0\n",
       "METODE_COD     0\n",
       "METODE         0\n",
       "dtype: int64"
      ]
     },
     "execution_count": 8,
     "metadata": {},
     "output_type": "execute_result"
    }
   ],
   "source": [
    "EMEF.isnull().sum(axis=0)"
   ]
  },
  {
   "cell_type": "markdown",
   "metadata": {},
   "source": [
    "# Model de predicció hora de trucada"
   ]
  },
  {
   "cell_type": "code",
   "execution_count": 9,
   "metadata": {},
   "outputs": [],
   "source": [
    "X = EMEF[['CMUNI_COD', 'ESTRAT_COD', 'SEXE_COD', 'ANYNAIX', 'EDAT', 'GR_EDAT_COD']]\n",
    "y = EMEF[['HORAFIN_H']]"
   ]
  },
  {
   "cell_type": "code",
   "execution_count": 10,
   "metadata": {},
   "outputs": [],
   "source": [
    "X_train, X_test, y_train, y_test = train_test_split(X, y, test_size=0.2)"
   ]
  },
  {
   "cell_type": "code",
   "execution_count": 11,
   "metadata": {},
   "outputs": [],
   "source": [
    "X_val, X_test, y_val, y_test = train_test_split(X_test, y_test, test_size=0.5)"
   ]
  },
  {
   "cell_type": "code",
   "execution_count": 12,
   "metadata": {},
   "outputs": [
    {
     "data": {
      "text/plain": [
       "(8129, 6)"
      ]
     },
     "execution_count": 12,
     "metadata": {},
     "output_type": "execute_result"
    }
   ],
   "source": [
    "X_train.shape"
   ]
  },
  {
   "cell_type": "code",
   "execution_count": 13,
   "metadata": {},
   "outputs": [
    {
     "data": {
      "text/plain": [
       "(1017, 6)"
      ]
     },
     "execution_count": 13,
     "metadata": {},
     "output_type": "execute_result"
    }
   ],
   "source": [
    "X_test.shape"
   ]
  },
  {
   "cell_type": "code",
   "execution_count": 14,
   "metadata": {},
   "outputs": [
    {
     "data": {
      "text/plain": [
       "(1016, 6)"
      ]
     },
     "execution_count": 14,
     "metadata": {},
     "output_type": "execute_result"
    }
   ],
   "source": [
    "X_val.shape"
   ]
  },
  {
   "cell_type": "markdown",
   "metadata": {},
   "source": [
    "### Classificador Gradient Boosting"
   ]
  },
  {
   "cell_type": "code",
   "execution_count": 15,
   "metadata": {},
   "outputs": [],
   "source": [
    "grd = GradientBoostingClassifier(n_estimators=50, max_depth=2,\n",
    "                             random_state=0, min_samples_leaf=20, learning_rate = 0.01)"
   ]
  },
  {
   "cell_type": "code",
   "execution_count": 16,
   "metadata": {},
   "outputs": [
    {
     "name": "stderr",
     "output_type": "stream",
     "text": [
      "C:\\Users\\Lau\\AppData\\Local\\Continuum\\anaconda3\\lib\\site-packages\\sklearn\\utils\\validation.py:578: DataConversionWarning: A column-vector y was passed when a 1d array was expected. Please change the shape of y to (n_samples, ), for example using ravel().\n",
      "  y = column_or_1d(y, warn=True)\n"
     ]
    },
    {
     "data": {
      "text/plain": [
       "GradientBoostingClassifier(criterion='friedman_mse', init=None,\n",
       "              learning_rate=0.01, loss='deviance', max_depth=2,\n",
       "              max_features=None, max_leaf_nodes=None,\n",
       "              min_impurity_decrease=0.0, min_impurity_split=None,\n",
       "              min_samples_leaf=20, min_samples_split=2,\n",
       "              min_weight_fraction_leaf=0.0, n_estimators=50,\n",
       "              presort='auto', random_state=0, subsample=1.0, verbose=0,\n",
       "              warm_start=False)"
      ]
     },
     "execution_count": 16,
     "metadata": {},
     "output_type": "execute_result"
    }
   ],
   "source": [
    "grd.fit(X_train, y_train)"
   ]
  },
  {
   "cell_type": "code",
   "execution_count": 17,
   "metadata": {},
   "outputs": [
    {
     "data": {
      "text/plain": [
       "0.11515748031496063"
      ]
     },
     "execution_count": 17,
     "metadata": {},
     "output_type": "execute_result"
    }
   ],
   "source": [
    "grd.score(X_val, y_val)"
   ]
  },
  {
   "cell_type": "code",
   "execution_count": 18,
   "metadata": {},
   "outputs": [
    {
     "data": {
      "text/plain": [
       "0.12350842662074056"
      ]
     },
     "execution_count": 18,
     "metadata": {},
     "output_type": "execute_result"
    }
   ],
   "source": [
    "grd.score(X_train, y_train)"
   ]
  },
  {
   "cell_type": "markdown",
   "metadata": {},
   "source": [
    "##### El score en los datos de train y los de validación se acercan"
   ]
  },
  {
   "cell_type": "code",
   "execution_count": 19,
   "metadata": {},
   "outputs": [
    {
     "data": {
      "text/plain": [
       "0.11012782694198624"
      ]
     },
     "execution_count": 19,
     "metadata": {},
     "output_type": "execute_result"
    }
   ],
   "source": [
    "grd.score(X_test, y_test)"
   ]
  },
  {
   "cell_type": "markdown",
   "metadata": {},
   "source": [
    "##### El modelo tiene una precisión de 0,11"
   ]
  },
  {
   "cell_type": "code",
   "execution_count": 20,
   "metadata": {},
   "outputs": [
    {
     "data": {
      "text/html": [
       "<div>\n",
       "<style scoped>\n",
       "    .dataframe tbody tr th:only-of-type {\n",
       "        vertical-align: middle;\n",
       "    }\n",
       "\n",
       "    .dataframe tbody tr th {\n",
       "        vertical-align: top;\n",
       "    }\n",
       "\n",
       "    .dataframe thead th {\n",
       "        text-align: right;\n",
       "    }\n",
       "</style>\n",
       "<table border=\"1\" class=\"dataframe\">\n",
       "  <thead>\n",
       "    <tr style=\"text-align: right;\">\n",
       "      <th></th>\n",
       "      <th>CMUNI_COD</th>\n",
       "      <th>ESTRAT_COD</th>\n",
       "      <th>SEXE_COD</th>\n",
       "      <th>ANYNAIX</th>\n",
       "      <th>EDAT</th>\n",
       "      <th>GR_EDAT_COD</th>\n",
       "    </tr>\n",
       "  </thead>\n",
       "  <tbody>\n",
       "    <tr>\n",
       "      <th>3902</th>\n",
       "      <td>8072</td>\n",
       "      <td>27</td>\n",
       "      <td>1</td>\n",
       "      <td>1995</td>\n",
       "      <td>23</td>\n",
       "      <td>1</td>\n",
       "    </tr>\n",
       "  </tbody>\n",
       "</table>\n",
       "</div>"
      ],
      "text/plain": [
       "      CMUNI_COD  ESTRAT_COD  SEXE_COD  ANYNAIX  EDAT  GR_EDAT_COD\n",
       "3902       8072          27         1     1995    23            1"
      ]
     },
     "execution_count": 20,
     "metadata": {},
     "output_type": "execute_result"
    }
   ],
   "source": [
    "a = X_test.sample()\n",
    "a"
   ]
  },
  {
   "cell_type": "code",
   "execution_count": 21,
   "metadata": {},
   "outputs": [
    {
     "data": {
      "text/plain": [
       "array([19], dtype=int64)"
      ]
     },
     "execution_count": 21,
     "metadata": {},
     "output_type": "execute_result"
    }
   ],
   "source": [
    "grd.predict(a)"
   ]
  },
  {
   "cell_type": "code",
   "execution_count": null,
   "metadata": {},
   "outputs": [],
   "source": []
  },
  {
   "cell_type": "code",
   "execution_count": 22,
   "metadata": {},
   "outputs": [],
   "source": [
    "df = pd.DataFrame({'CMUNI_COD':[8072], 'ESTRAT_COD':[27], 'SEXE_COD':[1], 'ANYNAIX':[1995], 'EDAT':[23], 'GR_EDAT_COD':[1]})"
   ]
  },
  {
   "cell_type": "code",
   "execution_count": 23,
   "metadata": {},
   "outputs": [
    {
     "data": {
      "text/html": [
       "<div>\n",
       "<style scoped>\n",
       "    .dataframe tbody tr th:only-of-type {\n",
       "        vertical-align: middle;\n",
       "    }\n",
       "\n",
       "    .dataframe tbody tr th {\n",
       "        vertical-align: top;\n",
       "    }\n",
       "\n",
       "    .dataframe thead th {\n",
       "        text-align: right;\n",
       "    }\n",
       "</style>\n",
       "<table border=\"1\" class=\"dataframe\">\n",
       "  <thead>\n",
       "    <tr style=\"text-align: right;\">\n",
       "      <th></th>\n",
       "      <th>CMUNI_COD</th>\n",
       "      <th>ESTRAT_COD</th>\n",
       "      <th>SEXE_COD</th>\n",
       "      <th>ANYNAIX</th>\n",
       "      <th>EDAT</th>\n",
       "      <th>GR_EDAT_COD</th>\n",
       "    </tr>\n",
       "  </thead>\n",
       "  <tbody>\n",
       "    <tr>\n",
       "      <th>0</th>\n",
       "      <td>8072</td>\n",
       "      <td>27</td>\n",
       "      <td>1</td>\n",
       "      <td>1995</td>\n",
       "      <td>23</td>\n",
       "      <td>1</td>\n",
       "    </tr>\n",
       "  </tbody>\n",
       "</table>\n",
       "</div>"
      ],
      "text/plain": [
       "   CMUNI_COD  ESTRAT_COD  SEXE_COD  ANYNAIX  EDAT  GR_EDAT_COD\n",
       "0       8072          27         1     1995    23            1"
      ]
     },
     "execution_count": 23,
     "metadata": {},
     "output_type": "execute_result"
    }
   ],
   "source": [
    "df"
   ]
  },
  {
   "cell_type": "code",
   "execution_count": 24,
   "metadata": {},
   "outputs": [
    {
     "data": {
      "text/plain": [
       "array([19], dtype=int64)"
      ]
     },
     "execution_count": 24,
     "metadata": {},
     "output_type": "execute_result"
    }
   ],
   "source": [
    "grd.predict(df)"
   ]
  },
  {
   "cell_type": "code",
   "execution_count": null,
   "metadata": {},
   "outputs": [],
   "source": []
  },
  {
   "cell_type": "code",
   "execution_count": 25,
   "metadata": {},
   "outputs": [
    {
     "data": {
      "text/plain": [
       "17.644051130776795"
      ]
     },
     "execution_count": 25,
     "metadata": {},
     "output_type": "execute_result"
    }
   ],
   "source": [
    "grd.predict(X_test).mean()"
   ]
  },
  {
   "cell_type": "code",
   "execution_count": 26,
   "metadata": {},
   "outputs": [
    {
     "data": {
      "text/plain": [
       "array([19, 18, 15, ..., 18, 18, 18], dtype=int64)"
      ]
     },
     "execution_count": 26,
     "metadata": {},
     "output_type": "execute_result"
    }
   ],
   "source": [
    "grd.predict(X_test)"
   ]
  },
  {
   "cell_type": "code",
   "execution_count": 27,
   "metadata": {},
   "outputs": [],
   "source": [
    "df_3 = X_test.copy()"
   ]
  },
  {
   "cell_type": "code",
   "execution_count": 28,
   "metadata": {},
   "outputs": [
    {
     "data": {
      "text/html": [
       "<div>\n",
       "<style scoped>\n",
       "    .dataframe tbody tr th:only-of-type {\n",
       "        vertical-align: middle;\n",
       "    }\n",
       "\n",
       "    .dataframe tbody tr th {\n",
       "        vertical-align: top;\n",
       "    }\n",
       "\n",
       "    .dataframe thead th {\n",
       "        text-align: right;\n",
       "    }\n",
       "</style>\n",
       "<table border=\"1\" class=\"dataframe\">\n",
       "  <thead>\n",
       "    <tr style=\"text-align: right;\">\n",
       "      <th></th>\n",
       "      <th>CMUNI_COD</th>\n",
       "      <th>ESTRAT_COD</th>\n",
       "      <th>SEXE_COD</th>\n",
       "      <th>ANYNAIX</th>\n",
       "      <th>EDAT</th>\n",
       "      <th>GR_EDAT_COD</th>\n",
       "    </tr>\n",
       "  </thead>\n",
       "  <tbody>\n",
       "    <tr>\n",
       "      <th>342</th>\n",
       "      <td>8019</td>\n",
       "      <td>2</td>\n",
       "      <td>2</td>\n",
       "      <td>1979</td>\n",
       "      <td>39</td>\n",
       "      <td>2</td>\n",
       "    </tr>\n",
       "    <tr>\n",
       "      <th>8642</th>\n",
       "      <td>8192</td>\n",
       "      <td>61</td>\n",
       "      <td>2</td>\n",
       "      <td>1996</td>\n",
       "      <td>22</td>\n",
       "      <td>1</td>\n",
       "    </tr>\n",
       "    <tr>\n",
       "      <th>1045</th>\n",
       "      <td>8019</td>\n",
       "      <td>5</td>\n",
       "      <td>2</td>\n",
       "      <td>1947</td>\n",
       "      <td>71</td>\n",
       "      <td>4</td>\n",
       "    </tr>\n",
       "    <tr>\n",
       "      <th>3554</th>\n",
       "      <td>8221</td>\n",
       "      <td>25</td>\n",
       "      <td>2</td>\n",
       "      <td>1981</td>\n",
       "      <td>37</td>\n",
       "      <td>2</td>\n",
       "    </tr>\n",
       "    <tr>\n",
       "      <th>7053</th>\n",
       "      <td>8279</td>\n",
       "      <td>52</td>\n",
       "      <td>1</td>\n",
       "      <td>1988</td>\n",
       "      <td>30</td>\n",
       "      <td>2</td>\n",
       "    </tr>\n",
       "  </tbody>\n",
       "</table>\n",
       "</div>"
      ],
      "text/plain": [
       "      CMUNI_COD  ESTRAT_COD  SEXE_COD  ANYNAIX  EDAT  GR_EDAT_COD\n",
       "342        8019           2         2     1979    39            2\n",
       "8642       8192          61         2     1996    22            1\n",
       "1045       8019           5         2     1947    71            4\n",
       "3554       8221          25         2     1981    37            2\n",
       "7053       8279          52         1     1988    30            2"
      ]
     },
     "execution_count": 28,
     "metadata": {},
     "output_type": "execute_result"
    }
   ],
   "source": [
    "df_3.head()"
   ]
  },
  {
   "cell_type": "code",
   "execution_count": 29,
   "metadata": {},
   "outputs": [],
   "source": [
    "df_3['HORAFIN_H'] = grd.predict(X_test)"
   ]
  },
  {
   "cell_type": "code",
   "execution_count": 30,
   "metadata": {},
   "outputs": [
    {
     "data": {
      "text/html": [
       "<div>\n",
       "<style scoped>\n",
       "    .dataframe tbody tr th:only-of-type {\n",
       "        vertical-align: middle;\n",
       "    }\n",
       "\n",
       "    .dataframe tbody tr th {\n",
       "        vertical-align: top;\n",
       "    }\n",
       "\n",
       "    .dataframe thead th {\n",
       "        text-align: right;\n",
       "    }\n",
       "</style>\n",
       "<table border=\"1\" class=\"dataframe\">\n",
       "  <thead>\n",
       "    <tr style=\"text-align: right;\">\n",
       "      <th></th>\n",
       "      <th>CMUNI_COD</th>\n",
       "      <th>ESTRAT_COD</th>\n",
       "      <th>SEXE_COD</th>\n",
       "      <th>ANYNAIX</th>\n",
       "      <th>EDAT</th>\n",
       "      <th>GR_EDAT_COD</th>\n",
       "      <th>HORAFIN_H</th>\n",
       "    </tr>\n",
       "  </thead>\n",
       "  <tbody>\n",
       "    <tr>\n",
       "      <th>342</th>\n",
       "      <td>8019</td>\n",
       "      <td>2</td>\n",
       "      <td>2</td>\n",
       "      <td>1979</td>\n",
       "      <td>39</td>\n",
       "      <td>2</td>\n",
       "      <td>19</td>\n",
       "    </tr>\n",
       "    <tr>\n",
       "      <th>8642</th>\n",
       "      <td>8192</td>\n",
       "      <td>61</td>\n",
       "      <td>2</td>\n",
       "      <td>1996</td>\n",
       "      <td>22</td>\n",
       "      <td>1</td>\n",
       "      <td>18</td>\n",
       "    </tr>\n",
       "    <tr>\n",
       "      <th>1045</th>\n",
       "      <td>8019</td>\n",
       "      <td>5</td>\n",
       "      <td>2</td>\n",
       "      <td>1947</td>\n",
       "      <td>71</td>\n",
       "      <td>4</td>\n",
       "      <td>15</td>\n",
       "    </tr>\n",
       "    <tr>\n",
       "      <th>3554</th>\n",
       "      <td>8221</td>\n",
       "      <td>25</td>\n",
       "      <td>2</td>\n",
       "      <td>1981</td>\n",
       "      <td>37</td>\n",
       "      <td>2</td>\n",
       "      <td>18</td>\n",
       "    </tr>\n",
       "    <tr>\n",
       "      <th>7053</th>\n",
       "      <td>8279</td>\n",
       "      <td>52</td>\n",
       "      <td>1</td>\n",
       "      <td>1988</td>\n",
       "      <td>30</td>\n",
       "      <td>2</td>\n",
       "      <td>18</td>\n",
       "    </tr>\n",
       "  </tbody>\n",
       "</table>\n",
       "</div>"
      ],
      "text/plain": [
       "      CMUNI_COD  ESTRAT_COD  SEXE_COD  ANYNAIX  EDAT  GR_EDAT_COD  HORAFIN_H\n",
       "342        8019           2         2     1979    39            2         19\n",
       "8642       8192          61         2     1996    22            1         18\n",
       "1045       8019           5         2     1947    71            4         15\n",
       "3554       8221          25         2     1981    37            2         18\n",
       "7053       8279          52         1     1988    30            2         18"
      ]
     },
     "execution_count": 30,
     "metadata": {},
     "output_type": "execute_result"
    }
   ],
   "source": [
    "df_3.head()"
   ]
  },
  {
   "cell_type": "code",
   "execution_count": 33,
   "metadata": {},
   "outputs": [
    {
     "data": {
      "text/plain": [
       "19.0"
      ]
     },
     "execution_count": 33,
     "metadata": {},
     "output_type": "execute_result"
    }
   ],
   "source": [
    "df_3[(df_3['SEXE_COD'] == 1) & (df_3['GR_EDAT_COD'] == 2) & (df_3['ESTRAT_COD'] == 5)]['HORAFIN_H'].mean()"
   ]
  },
  {
   "cell_type": "code",
   "execution_count": 34,
   "metadata": {
    "scrolled": true
   },
   "outputs": [
    {
     "data": {
      "text/plain": [
       "ESTRAT_COD  SEXE_COD  GR_EDAT_COD\n",
       "1           1         1              17.000000\n",
       "                      2              19.000000\n",
       "                      3              19.000000\n",
       "                      4              14.500000\n",
       "            2         1              19.000000\n",
       "                      2              19.000000\n",
       "                      3              16.333333\n",
       "                      4              15.333333\n",
       "2           1         1              19.000000\n",
       "                      2              19.000000\n",
       "                      3              18.000000\n",
       "                      4              15.000000\n",
       "            2         1              19.000000\n",
       "                      2              19.000000\n",
       "                      3              18.200000\n",
       "                      4              15.000000\n",
       "3           1         1              19.000000\n",
       "                      2              19.000000\n",
       "                      3              19.000000\n",
       "                      4              15.000000\n",
       "            2         1              19.000000\n",
       "                      2              19.000000\n",
       "                      3              17.000000\n",
       "                      4              15.250000\n",
       "4           1         1              19.000000\n",
       "                      2              19.000000\n",
       "                      3              19.000000\n",
       "                      4              15.500000\n",
       "            2         1              19.000000\n",
       "                      3              15.000000\n",
       "                                       ...    \n",
       "68          1         1              19.000000\n",
       "                      2              19.000000\n",
       "                      3              19.571429\n",
       "                      4              17.000000\n",
       "            2         3              19.666667\n",
       "                      4              20.000000\n",
       "69          1         1              18.000000\n",
       "                      2              18.000000\n",
       "                      3              20.000000\n",
       "                      4              13.000000\n",
       "            2         1              18.500000\n",
       "                      2              19.000000\n",
       "                      3              19.250000\n",
       "                      4              17.666667\n",
       "70          1         1              19.000000\n",
       "                      2              19.000000\n",
       "                      3              19.500000\n",
       "                      4              20.000000\n",
       "            2         1              19.000000\n",
       "                      2              19.000000\n",
       "                      3              19.000000\n",
       "                      4              16.250000\n",
       "71          1         1              19.000000\n",
       "                      2              18.000000\n",
       "                      3              19.000000\n",
       "                      4              15.000000\n",
       "            2         1              16.500000\n",
       "                      2              19.000000\n",
       "                      3              19.000000\n",
       "                      4              20.000000\n",
       "Name: HORAFIN_H, Length: 444, dtype: float64"
      ]
     },
     "execution_count": 34,
     "metadata": {},
     "output_type": "execute_result"
    }
   ],
   "source": [
    "result = df_3.groupby(by = ['ESTRAT_COD','SEXE_COD', 'GR_EDAT_COD'])['HORAFIN_H'].mean()\n",
    "result"
   ]
  },
  {
   "cell_type": "code",
   "execution_count": 35,
   "metadata": {},
   "outputs": [],
   "source": [
    "result.to_csv('Trucades_EMEF.csv', sep=';', header=1, encoding='latin-1')"
   ]
  },
  {
   "cell_type": "code",
   "execution_count": 36,
   "metadata": {},
   "outputs": [],
   "source": [
    "result.to_excel('Trucades_EMEF.xlsx', sheet_name='Resultat')"
   ]
  },
  {
   "cell_type": "code",
   "execution_count": null,
   "metadata": {},
   "outputs": [],
   "source": []
  },
  {
   "cell_type": "code",
   "execution_count": null,
   "metadata": {},
   "outputs": [],
   "source": []
  },
  {
   "cell_type": "code",
   "execution_count": null,
   "metadata": {},
   "outputs": [],
   "source": []
  },
  {
   "cell_type": "code",
   "execution_count": null,
   "metadata": {},
   "outputs": [],
   "source": []
  },
  {
   "cell_type": "code",
   "execution_count": null,
   "metadata": {},
   "outputs": [],
   "source": []
  },
  {
   "cell_type": "code",
   "execution_count": null,
   "metadata": {},
   "outputs": [],
   "source": []
  },
  {
   "cell_type": "code",
   "execution_count": null,
   "metadata": {},
   "outputs": [],
   "source": []
  },
  {
   "cell_type": "code",
   "execution_count": null,
   "metadata": {},
   "outputs": [],
   "source": []
  },
  {
   "cell_type": "code",
   "execution_count": null,
   "metadata": {},
   "outputs": [],
   "source": []
  },
  {
   "cell_type": "code",
   "execution_count": null,
   "metadata": {},
   "outputs": [],
   "source": []
  },
  {
   "cell_type": "code",
   "execution_count": null,
   "metadata": {},
   "outputs": [],
   "source": []
  },
  {
   "cell_type": "code",
   "execution_count": null,
   "metadata": {},
   "outputs": [],
   "source": []
  },
  {
   "cell_type": "code",
   "execution_count": null,
   "metadata": {},
   "outputs": [],
   "source": []
  },
  {
   "cell_type": "code",
   "execution_count": null,
   "metadata": {},
   "outputs": [],
   "source": []
  },
  {
   "cell_type": "code",
   "execution_count": null,
   "metadata": {},
   "outputs": [],
   "source": []
  },
  {
   "cell_type": "code",
   "execution_count": null,
   "metadata": {},
   "outputs": [],
   "source": []
  },
  {
   "cell_type": "code",
   "execution_count": null,
   "metadata": {},
   "outputs": [],
   "source": []
  },
  {
   "cell_type": "code",
   "execution_count": null,
   "metadata": {},
   "outputs": [],
   "source": []
  },
  {
   "cell_type": "code",
   "execution_count": null,
   "metadata": {},
   "outputs": [],
   "source": []
  },
  {
   "cell_type": "code",
   "execution_count": null,
   "metadata": {},
   "outputs": [],
   "source": []
  },
  {
   "cell_type": "code",
   "execution_count": null,
   "metadata": {},
   "outputs": [],
   "source": []
  },
  {
   "cell_type": "code",
   "execution_count": null,
   "metadata": {},
   "outputs": [],
   "source": []
  },
  {
   "cell_type": "code",
   "execution_count": 132,
   "metadata": {
    "scrolled": true
   },
   "outputs": [
    {
     "data": {
      "text/plain": [
       "ESTRAT_COD  SEXE_COD  GR_EDAT_COD\n",
       "1           1         1               2\n",
       "                      2               2\n",
       "                      3               2\n",
       "                      4               2\n",
       "            2         1               2\n",
       "                      2               2\n",
       "                      3               1\n",
       "2           1         1               3\n",
       "                      2               5\n",
       "                      3               4\n",
       "                      4              10\n",
       "            2         1               1\n",
       "                      2               8\n",
       "                      3               8\n",
       "                      4               3\n",
       "3           1         2               3\n",
       "                      3               6\n",
       "                      4               2\n",
       "            2         1               2\n",
       "                      2               4\n",
       "                      3               5\n",
       "                      4               3\n",
       "4           1         2               1\n",
       "                      3               2\n",
       "                      4               1\n",
       "            2         1               2\n",
       "                      3               2\n",
       "                      4               3\n",
       "5           1         1               1\n",
       "                      2               1\n",
       "                                     ..\n",
       "67          1         3               1\n",
       "                      4               1\n",
       "            2         2               1\n",
       "68          1         2               3\n",
       "                      3               3\n",
       "                      4               2\n",
       "            2         1               1\n",
       "                      2               2\n",
       "                      3               2\n",
       "                      4               3\n",
       "69          1         2               3\n",
       "                      3               5\n",
       "                      4               3\n",
       "            2         1               2\n",
       "                      2               2\n",
       "                      4               8\n",
       "70          1         1               3\n",
       "                      3               3\n",
       "                      4               4\n",
       "            2         1               6\n",
       "                      2               4\n",
       "                      3               2\n",
       "                      4               2\n",
       "71          1         2               5\n",
       "                      3               4\n",
       "                      4               1\n",
       "            2         1               1\n",
       "                      2               2\n",
       "                      3               2\n",
       "                      4               4\n",
       "Name: HORAFIN_H, Length: 433, dtype: int64"
      ]
     },
     "execution_count": 132,
     "metadata": {},
     "output_type": "execute_result"
    }
   ],
   "source": [
    "df_3.groupby(by = ['ESTRAT_COD','SEXE_COD', 'GR_EDAT_COD'])['HORAFIN_H'].count()"
   ]
  },
  {
   "cell_type": "code",
   "execution_count": 135,
   "metadata": {
    "scrolled": true
   },
   "outputs": [
    {
     "data": {
      "text/plain": [
       "271    19\n",
       "291    15\n",
       "293    15\n",
       "295    15\n",
       "300    15\n",
       "277    17\n",
       "283    15\n",
       "290    15\n",
       "272    15\n",
       "294    15\n",
       "Name: HORAFIN_H, dtype: int64"
      ]
     },
     "execution_count": 135,
     "metadata": {},
     "output_type": "execute_result"
    }
   ],
   "source": [
    "df_3[(df_3['SEXE_COD'] == 1) & (df_3['GR_EDAT_COD'] == 4) & (df_3['ESTRAT_COD'] == 2)]['HORAFIN_H']"
   ]
  },
  {
   "cell_type": "code",
   "execution_count": 140,
   "metadata": {},
   "outputs": [
    {
     "data": {
      "text/plain": [
       "15.6"
      ]
     },
     "execution_count": 140,
     "metadata": {},
     "output_type": "execute_result"
    }
   ],
   "source": [
    "df_3[(df_3['SEXE_COD'] == 1) & (df_3['GR_EDAT_COD'] == 4) & (df_3['ESTRAT_COD'] == 2)]['HORAFIN_H'].mean()"
   ]
  },
  {
   "cell_type": "code",
   "execution_count": null,
   "metadata": {},
   "outputs": [],
   "source": []
  },
  {
   "cell_type": "code",
   "execution_count": 148,
   "metadata": {},
   "outputs": [
    {
     "data": {
      "text/plain": [
       "72    15\n",
       "78    17\n",
       "Name: HORAFIN_H, dtype: int64"
      ]
     },
     "execution_count": 148,
     "metadata": {},
     "output_type": "execute_result"
    }
   ],
   "source": [
    "df_3[(df_3['SEXE_COD'] == 2) & (df_3['GR_EDAT_COD'] == 1) & (df_3['ESTRAT_COD'] == 1)]['HORAFIN_H']"
   ]
  },
  {
   "cell_type": "code",
   "execution_count": 149,
   "metadata": {},
   "outputs": [
    {
     "data": {
      "text/plain": [
       "16.0"
      ]
     },
     "execution_count": 149,
     "metadata": {},
     "output_type": "execute_result"
    }
   ],
   "source": [
    "df_3[(df_3['SEXE_COD'] == 2) & (df_3['GR_EDAT_COD'] == 1) & (df_3['ESTRAT_COD'] == 1)]['HORAFIN_H'].mean()"
   ]
  },
  {
   "cell_type": "code",
   "execution_count": null,
   "metadata": {},
   "outputs": [],
   "source": []
  }
 ],
 "metadata": {
  "kernelspec": {
   "display_name": "Python 3",
   "language": "python",
   "name": "python3"
  },
  "language_info": {
   "codemirror_mode": {
    "name": "ipython",
    "version": 3
   },
   "file_extension": ".py",
   "mimetype": "text/x-python",
   "name": "python",
   "nbconvert_exporter": "python",
   "pygments_lexer": "ipython3",
   "version": "3.6.5"
  }
 },
 "nbformat": 4,
 "nbformat_minor": 2
}
